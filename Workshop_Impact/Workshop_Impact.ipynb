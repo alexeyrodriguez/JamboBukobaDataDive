{
 "cells": [
  {
   "cell_type": "markdown",
   "metadata": {},
   "source": [
    "### Study of the impact of the workshops on the marks of schools"
   ]
  },
  {
   "cell_type": "code",
   "execution_count": 1,
   "metadata": {
    "collapsed": false
   },
   "outputs": [],
   "source": [
    "import numpy as np\n",
    "import pandas as pd\n",
    "import matplotlib.pyplot as plt\n",
    "from matplotlib.backends.backend_pdf import PdfPages\n",
    "import seaborn as sns\n",
    "%matplotlib inline"
   ]
  },
  {
   "cell_type": "code",
   "execution_count": 2,
   "metadata": {
    "collapsed": true
   },
   "outputs": [],
   "source": [
    "df = pd.read_csv('../datasets/SchoolLevel.csv', sep=';')"
   ]
  },
  {
   "cell_type": "code",
   "execution_count": 3,
   "metadata": {
    "collapsed": false
   },
   "outputs": [
    {
     "data": {
      "text/plain": [
       "(1570, 79)"
      ]
     },
     "execution_count": 3,
     "metadata": {},
     "output_type": "execute_result"
    }
   ],
   "source": [
    "df.shape"
   ]
  },
  {
   "cell_type": "code",
   "execution_count": 4,
   "metadata": {
    "collapsed": false
   },
   "outputs": [
    {
     "data": {
      "text/html": [
       "<div style=\"max-height:1000px;max-width:1500px;overflow:auto;\">\n",
       "<table border=\"1\" class=\"dataframe\">\n",
       "  <thead>\n",
       "    <tr style=\"text-align: right;\">\n",
       "      <th></th>\n",
       "      <th>X</th>\n",
       "      <th>schoolcode</th>\n",
       "      <th>Candidates_2013</th>\n",
       "      <th>Passed_2013</th>\n",
       "      <th>Average_Marks_2013</th>\n",
       "      <th>Change_Average_Marks_2013</th>\n",
       "      <th>Band_2013</th>\n",
       "      <th>Rank_2013</th>\n",
       "      <th>Candidates_2014</th>\n",
       "      <th>Passed_2014</th>\n",
       "      <th>...</th>\n",
       "      <th>WS.2013</th>\n",
       "      <th>WS.2014</th>\n",
       "      <th>WS.2015</th>\n",
       "      <th>Region</th>\n",
       "      <th>english_grade_numeric</th>\n",
       "      <th>science_grade_numeric</th>\n",
       "      <th>kiswahili_grade_numeric</th>\n",
       "      <th>maarifa_grade_numeric</th>\n",
       "      <th>hisabati_grade_numeric</th>\n",
       "      <th>average_grade_numeric</th>\n",
       "    </tr>\n",
       "  </thead>\n",
       "  <tbody>\n",
       "    <tr>\n",
       "      <th>0</th>\n",
       "      <td>1</td>\n",
       "      <td>P0501001</td>\n",
       "      <td>72</td>\n",
       "      <td>71</td>\n",
       "      <td>149.78</td>\n",
       "      <td>36.65</td>\n",
       "      <td>5</td>\n",
       "      <td>780</td>\n",
       "      <td>51</td>\n",
       "      <td>50</td>\n",
       "      <td>...</td>\n",
       "      <td>0</td>\n",
       "      <td>0</td>\n",
       "      <td>0</td>\n",
       "      <td>Kagera</td>\n",
       "      <td>2</td>\n",
       "      <td>2</td>\n",
       "      <td>3</td>\n",
       "      <td>3</td>\n",
       "      <td>3</td>\n",
       "      <td>3</td>\n",
       "    </tr>\n",
       "    <tr>\n",
       "      <th>1</th>\n",
       "      <td>2</td>\n",
       "      <td>P0501004</td>\n",
       "      <td>69</td>\n",
       "      <td>67</td>\n",
       "      <td>146.01</td>\n",
       "      <td>33.76</td>\n",
       "      <td>5</td>\n",
       "      <td>919</td>\n",
       "      <td>58</td>\n",
       "      <td>57</td>\n",
       "      <td>...</td>\n",
       "      <td>0</td>\n",
       "      <td>0</td>\n",
       "      <td>0</td>\n",
       "      <td>Kagera</td>\n",
       "      <td>2</td>\n",
       "      <td>2</td>\n",
       "      <td>3</td>\n",
       "      <td>2</td>\n",
       "      <td>2</td>\n",
       "      <td>2</td>\n",
       "    </tr>\n",
       "    <tr>\n",
       "      <th>2</th>\n",
       "      <td>3</td>\n",
       "      <td>P0501002</td>\n",
       "      <td>41</td>\n",
       "      <td>28</td>\n",
       "      <td>116.34</td>\n",
       "      <td>29.88</td>\n",
       "      <td>6</td>\n",
       "      <td>3661</td>\n",
       "      <td>47</td>\n",
       "      <td>32</td>\n",
       "      <td>...</td>\n",
       "      <td>0</td>\n",
       "      <td>0</td>\n",
       "      <td>0</td>\n",
       "      <td>Kagera</td>\n",
       "      <td>3</td>\n",
       "      <td>3</td>\n",
       "      <td>3</td>\n",
       "      <td>3</td>\n",
       "      <td>3</td>\n",
       "      <td>3</td>\n",
       "    </tr>\n",
       "    <tr>\n",
       "      <th>3</th>\n",
       "      <td>4</td>\n",
       "      <td>P0501019</td>\n",
       "      <td>15</td>\n",
       "      <td>14</td>\n",
       "      <td>166.73</td>\n",
       "      <td>74.73</td>\n",
       "      <td>4</td>\n",
       "      <td>368</td>\n",
       "      <td>15</td>\n",
       "      <td>12</td>\n",
       "      <td>...</td>\n",
       "      <td>0</td>\n",
       "      <td>1</td>\n",
       "      <td>0</td>\n",
       "      <td>Kagera</td>\n",
       "      <td>2</td>\n",
       "      <td>2</td>\n",
       "      <td>2</td>\n",
       "      <td>1</td>\n",
       "      <td>2</td>\n",
       "      <td>2</td>\n",
       "    </tr>\n",
       "    <tr>\n",
       "      <th>4</th>\n",
       "      <td>5</td>\n",
       "      <td>P0501093</td>\n",
       "      <td>51</td>\n",
       "      <td>50</td>\n",
       "      <td>177.59</td>\n",
       "      <td>10.30</td>\n",
       "      <td>4</td>\n",
       "      <td>226</td>\n",
       "      <td>42</td>\n",
       "      <td>42</td>\n",
       "      <td>...</td>\n",
       "      <td>0</td>\n",
       "      <td>0</td>\n",
       "      <td>0</td>\n",
       "      <td>Kagera</td>\n",
       "      <td>1</td>\n",
       "      <td>1</td>\n",
       "      <td>1</td>\n",
       "      <td>2</td>\n",
       "      <td>1</td>\n",
       "      <td>1</td>\n",
       "    </tr>\n",
       "  </tbody>\n",
       "</table>\n",
       "<p>5 rows × 79 columns</p>\n",
       "</div>"
      ],
      "text/plain": [
       "   X schoolcode  Candidates_2013  Passed_2013  Average_Marks_2013  \\\n",
       "0  1   P0501001               72           71              149.78   \n",
       "1  2   P0501004               69           67              146.01   \n",
       "2  3   P0501002               41           28              116.34   \n",
       "3  4   P0501019               15           14              166.73   \n",
       "4  5   P0501093               51           50              177.59   \n",
       "\n",
       "   Change_Average_Marks_2013  Band_2013  Rank_2013  Candidates_2014  \\\n",
       "0                      36.65          5        780               51   \n",
       "1                      33.76          5        919               58   \n",
       "2                      29.88          6       3661               47   \n",
       "3                      74.73          4        368               15   \n",
       "4                      10.30          4        226               42   \n",
       "\n",
       "   Passed_2014          ...            WS.2013  WS.2014  WS.2015  Region  \\\n",
       "0           50          ...                  0        0        0  Kagera   \n",
       "1           57          ...                  0        0        0  Kagera   \n",
       "2           32          ...                  0        0        0  Kagera   \n",
       "3           12          ...                  0        1        0  Kagera   \n",
       "4           42          ...                  0        0        0  Kagera   \n",
       "\n",
       "   english_grade_numeric  science_grade_numeric  kiswahili_grade_numeric  \\\n",
       "0                      2                      2                        3   \n",
       "1                      2                      2                        3   \n",
       "2                      3                      3                        3   \n",
       "3                      2                      2                        2   \n",
       "4                      1                      1                        1   \n",
       "\n",
       "   maarifa_grade_numeric  hisabati_grade_numeric  average_grade_numeric  \n",
       "0                      3                       3                      3  \n",
       "1                      2                       2                      2  \n",
       "2                      3                       3                      3  \n",
       "3                      1                       2                      2  \n",
       "4                      2                       1                      1  \n",
       "\n",
       "[5 rows x 79 columns]"
      ]
     },
     "execution_count": 4,
     "metadata": {},
     "output_type": "execute_result"
    }
   ],
   "source": [
    "df.head()"
   ]
  },
  {
   "cell_type": "code",
   "execution_count": 5,
   "metadata": {
    "collapsed": false
   },
   "outputs": [
    {
     "name": "stdout",
     "output_type": "stream",
     "text": [
      "['Average_Marks_2011', 'Average_Marks_2012', 'Average_Marks_2013', 'Average_Marks_2014', 'Band_2011', 'Band_2013', 'Band_2014', 'Bonanza_2012', 'Bonanza_2013', 'Bonanza_2014', 'Bonanza_sum', 'Candidates_2011', 'Candidates_2012', 'Candidates_2013', 'Candidates_2014', 'Change_Average_2012', 'Change_Average_Marks_2013', 'Change_Average_Marks_2014', 'Identifier', 'Passed_2011', 'Passed_2012', 'Passed_2013', 'Passed_2014', 'Project_2013', 'Project_2014', 'Rank_2011', 'Rank_2012', 'Rank_2013', 'Rank_2014', 'Region', 'SUM.WORKSHOPS', 'Schoolname', 'Schoolproject_description', 'Schoolproject_happened', 'Schoolprojects_Boys', 'Schoolprojects_Girls', 'Schoolprojects_Students_Total', 'Unnamed: 19', 'WS.2010', 'WS.2011', 'WS.2012', 'WS.2013', 'WS.2014', 'WS.2015', 'WS1', 'WS10', 'WS11', 'WS12', 'WS13', 'WS19', 'WS2', 'WS20', 'WS21', 'WS22', 'WS23', 'WS24', 'WS25', 'WS26', 'WS27', 'WS28', 'WS29', 'WS3', 'WS30', 'WS31', 'WS32', 'WS4', 'WS5', 'WS6', 'WS7', 'WS8', 'WS9', 'X', 'average_grade_numeric', 'english_grade_numeric', 'hisabati_grade_numeric', 'kiswahili_grade_numeric', 'maarifa_grade_numeric', 'schoolcode', 'science_grade_numeric']\n"
     ]
    }
   ],
   "source": [
    "print sorted(list(df.columns))"
   ]
  },
  {
   "cell_type": "markdown",
   "metadata": {},
   "source": [
    "#### First insight: does having a project on the school impacts the average marks of the school on the next year?"
   ]
  },
  {
   "cell_type": "code",
   "execution_count": 6,
   "metadata": {
    "collapsed": false
   },
   "outputs": [
    {
     "name": "stdout",
     "output_type": "stream",
     "text": [
      "Schools with NO project have a 2014 average mark of:\t 118.0\n",
      "Schools with a project have a 2014 average mark of:\t 127.3  (+8%)\n"
     ]
    }
   ],
   "source": [
    "# mean 2014 average mark of all schools that had NO project before:\n",
    "m1 = df[(df[\"Project_2013\"]==0) & (df[\"Project_2014\"]==0)][\"Average_Marks_2014\"].mean()\n",
    "print(\"Schools with NO project have a 2014 average mark of:\\t %.1f\" % m1)\n",
    "# mean 2014 average mark of all schools that had a project the year before:\n",
    "m2 = df[(df[\"Project_2013\"]==1) & (df[\"Project_2014\"]==0)][\"Average_Marks_2014\"].mean()\n",
    "print(\"Schools with a project have a 2014 average mark of:\\t %.1f  (+%.0f%%)\" % \n",
    "      (m2, ((m2-m1)/m1)*100))"
   ]
  },
  {
   "cell_type": "markdown",
   "metadata": {},
   "source": [
    "So **YES**, as expected, schools with a project have better marks. Of course that can be due not to the benefits of the project itself, but to the fact that the schools that are awarded a project were already the best ones.\n",
    "\n",
    "Let's investigate that, by looking at the average marks of schools in the past:"
   ]
  },
  {
   "cell_type": "code",
   "execution_count": 7,
   "metadata": {
    "collapsed": false
   },
   "outputs": [
    {
     "name": "stdout",
     "output_type": "stream",
     "text": [
      "Past average mark of schools with NO project:\t 108.6\n",
      "Past average mark of schools with a project:\t 110.4  (+2%)\n"
     ]
    }
   ],
   "source": [
    "m1 = df[(df[\"Project_2013\"]==0) & (df[\"Project_2014\"]==0)][[\"Average_Marks_2011\",\"Average_Marks_2012\"]].mean().mean()\n",
    "print(\"Past average mark of schools with NO project:\\t %.1f\" % m1)\n",
    "m2 = df[(df[\"Project_2013\"]==1) | (df[\"Project_2014\"]==1)][[\"Average_Marks_2011\",\"Average_Marks_2012\"]].mean().mean()\n",
    "print(\"Past average mark of schools with a project:\\t %.1f  (+%.0f%%)\" % \n",
    "      (m2, ((m2-m1)/m1)*100))"
   ]
  },
  {
   "cell_type": "markdown",
   "metadata": {},
   "source": [
    "So there was indeed a previous difference between project/NO-project schools before the projects took place, but it was small (~2%), and this difference increased fourfold after the realization of the projects."
   ]
  },
  {
   "cell_type": "markdown",
   "metadata": {
    "collapsed": false
   },
   "source": [
    "### Impact of having workshops (WS)\n",
    "\n",
    "First, we will have a closer look at the data."
   ]
  },
  {
   "cell_type": "markdown",
   "metadata": {},
   "source": [
    "For our purposes, we only want to study the columns:\n",
    " - \"WS.year\": number of workshops taken by a teacher of the school that year\n",
    " - \"Average_Marks_year\": average marks of the school that year"
   ]
  },
  {
   "cell_type": "code",
   "execution_count": 8,
   "metadata": {
    "collapsed": false
   },
   "outputs": [
    {
     "name": "stdout",
     "output_type": "stream",
     "text": [
      "['WS.2010', 'WS.2011', 'WS.2012', 'WS.2013', 'WS.2014', 'WS.2015', 'Average_Marks_2011', 'Average_Marks_2012', 'Average_Marks_2013', 'Average_Marks_2014', 'SUM.WORKSHOPS']\n"
     ]
    },
    {
     "data": {
      "text/html": [
       "<div style=\"max-height:1000px;max-width:1500px;overflow:auto;\">\n",
       "<table border=\"1\" class=\"dataframe\">\n",
       "  <thead>\n",
       "    <tr style=\"text-align: right;\">\n",
       "      <th></th>\n",
       "      <th>WS.2010</th>\n",
       "      <th>WS.2011</th>\n",
       "      <th>WS.2012</th>\n",
       "      <th>WS.2013</th>\n",
       "      <th>WS.2014</th>\n",
       "      <th>WS.2015</th>\n",
       "      <th>Average_Marks_2011</th>\n",
       "      <th>Average_Marks_2012</th>\n",
       "      <th>Average_Marks_2013</th>\n",
       "      <th>Average_Marks_2014</th>\n",
       "      <th>SUM.WORKSHOPS</th>\n",
       "    </tr>\n",
       "    <tr>\n",
       "      <th>X</th>\n",
       "      <th></th>\n",
       "      <th></th>\n",
       "      <th></th>\n",
       "      <th></th>\n",
       "      <th></th>\n",
       "      <th></th>\n",
       "      <th></th>\n",
       "      <th></th>\n",
       "      <th></th>\n",
       "      <th></th>\n",
       "      <th></th>\n",
       "    </tr>\n",
       "  </thead>\n",
       "  <tbody>\n",
       "    <tr>\n",
       "      <th>1</th>\n",
       "      <td>0</td>\n",
       "      <td>0</td>\n",
       "      <td>0</td>\n",
       "      <td>0</td>\n",
       "      <td>0</td>\n",
       "      <td>0</td>\n",
       "      <td>153.98</td>\n",
       "      <td>113.13</td>\n",
       "      <td>149.78</td>\n",
       "      <td>150.55</td>\n",
       "      <td>0</td>\n",
       "    </tr>\n",
       "    <tr>\n",
       "      <th>2</th>\n",
       "      <td>0</td>\n",
       "      <td>0</td>\n",
       "      <td>1</td>\n",
       "      <td>0</td>\n",
       "      <td>0</td>\n",
       "      <td>0</td>\n",
       "      <td>152.75</td>\n",
       "      <td>112.25</td>\n",
       "      <td>146.01</td>\n",
       "      <td>179.76</td>\n",
       "      <td>1</td>\n",
       "    </tr>\n",
       "    <tr>\n",
       "      <th>3</th>\n",
       "      <td>0</td>\n",
       "      <td>0</td>\n",
       "      <td>0</td>\n",
       "      <td>0</td>\n",
       "      <td>0</td>\n",
       "      <td>0</td>\n",
       "      <td>108.19</td>\n",
       "      <td>86.46</td>\n",
       "      <td>116.34</td>\n",
       "      <td>114.66</td>\n",
       "      <td>0</td>\n",
       "    </tr>\n",
       "    <tr>\n",
       "      <th>4</th>\n",
       "      <td>0</td>\n",
       "      <td>0</td>\n",
       "      <td>0</td>\n",
       "      <td>0</td>\n",
       "      <td>1</td>\n",
       "      <td>0</td>\n",
       "      <td>144.26</td>\n",
       "      <td>92.00</td>\n",
       "      <td>166.73</td>\n",
       "      <td>116.87</td>\n",
       "      <td>1</td>\n",
       "    </tr>\n",
       "    <tr>\n",
       "      <th>5</th>\n",
       "      <td>0</td>\n",
       "      <td>0</td>\n",
       "      <td>0</td>\n",
       "      <td>0</td>\n",
       "      <td>0</td>\n",
       "      <td>0</td>\n",
       "      <td>179.14</td>\n",
       "      <td>167.29</td>\n",
       "      <td>177.59</td>\n",
       "      <td>190.33</td>\n",
       "      <td>0</td>\n",
       "    </tr>\n",
       "  </tbody>\n",
       "</table>\n",
       "</div>"
      ],
      "text/plain": [
       "   WS.2010  WS.2011  WS.2012  WS.2013  WS.2014  WS.2015  Average_Marks_2011  \\\n",
       "X                                                                             \n",
       "1        0        0        0        0        0        0              153.98   \n",
       "2        0        0        1        0        0        0              152.75   \n",
       "3        0        0        0        0        0        0              108.19   \n",
       "4        0        0        0        0        1        0              144.26   \n",
       "5        0        0        0        0        0        0              179.14   \n",
       "\n",
       "   Average_Marks_2012  Average_Marks_2013  Average_Marks_2014  SUM.WORKSHOPS  \n",
       "X                                                                             \n",
       "1              113.13              149.78              150.55              0  \n",
       "2              112.25              146.01              179.76              1  \n",
       "3               86.46              116.34              114.66              0  \n",
       "4               92.00              166.73              116.87              1  \n",
       "5              167.29              177.59              190.33              0  "
      ]
     },
     "execution_count": 8,
     "metadata": {},
     "output_type": "execute_result"
    }
   ],
   "source": [
    "# reindex by column 'X' and sort columns alphabetically:\n",
    "df = df.set_index(['X'])\n",
    "df = df.reindex_axis(sorted(df.columns), axis=1)\n",
    "\n",
    "# Keep only specific columns:\n",
    "WScols = ['WS.%i' % i for i in xrange(2010,2016)]\n",
    "cols_to_keep = list(WScols) # adding list() avoids automatic modification of WScols\n",
    "Average_Marks_cols = ['Average_Marks_%i' % i for i in xrange(2011,2015)]\n",
    "cols_to_keep.extend(Average_Marks_cols)\n",
    "cols_to_keep.append('SUM.WORKSHOPS')\n",
    "print cols_to_keep\n",
    "df = df[cols_to_keep]\n",
    "df.head()"
   ]
  },
  {
   "cell_type": "markdown",
   "metadata": {},
   "source": [
    "#### How many null data do we have?"
   ]
  },
  {
   "cell_type": "code",
   "execution_count": 9,
   "metadata": {
    "collapsed": false
   },
   "outputs": [
    {
     "name": "stdout",
     "output_type": "stream",
     "text": [
      "\n",
      "\n",
      "***** Columns with NULL data:\n",
      "\n",
      "\n",
      "Average_Marks_2011   39.0%\n",
      "Average_Marks_2012   37.3%\n",
      "Average_Marks_2013   7.2%\n",
      "Average_Marks_2014   6.4%\n",
      "\n",
      "\n",
      "***** The other 7 columns have NO NULL values :)\n",
      "\n",
      "\n"
     ]
    }
   ],
   "source": [
    "# percentage of null data in dataset:\n",
    "print(\"\\n\\n***** Columns with NULL data:\\n\\n\")\n",
    "n_cols_notnull = 0\n",
    "for col in sorted(list(df.columns)):\n",
    "    percent_null = float(df[col].isnull().sum()) / df.shape[0] * 100\n",
    "    if percent_null > 0:\n",
    "        print(\"{:15s}   {:.1f}%\".format(col, percent_null))\n",
    "    else:\n",
    "        n_cols_notnull += 1\n",
    "print(\"\\n\\n***** The other %i columns have NO NULL values :)\\n\\n\" % n_cols_notnull)"
   ]
  },
  {
   "cell_type": "markdown",
   "metadata": {},
   "source": [
    "#### How many schools had workshops?"
   ]
  },
  {
   "cell_type": "code",
   "execution_count": 10,
   "metadata": {
    "collapsed": false
   },
   "outputs": [
    {
     "name": "stdout",
     "output_type": "stream",
     "text": [
      "*** Feature:  SUM.WORKSHOPS  ***\n",
      "    number of uniques: 4\n",
      "Categories    Counts\n",
      "0    1083\n",
      "1     416\n",
      "2      61\n",
      "3      10\n",
      "dtype: int64 \n",
      "\n",
      "\n"
     ]
    }
   ],
   "source": [
    "col = 'SUM.WORKSHOPS'\n",
    "print '*** Feature: ',col,' ***'\n",
    "print '    number of uniques:',len(df[col].unique())\n",
    "print 'Categories    Counts\\n',pd.value_counts(df[col]),'\\n\\n'"
   ]
  },
  {
   "cell_type": "markdown",
   "metadata": {},
   "source": [
    "#### How are the workshops distributed per year?"
   ]
  },
  {
   "cell_type": "code",
   "execution_count": 11,
   "metadata": {
    "collapsed": false
   },
   "outputs": [
    {
     "name": "stdout",
     "output_type": "stream",
     "text": [
      "*** Feature:  WS.2010  ***\n",
      "    number of uniques: 3\n",
      "Categories    Counts\n",
      "0    1489\n",
      "1      79\n",
      "2       2\n",
      "dtype: int64 \n",
      "\n",
      "\n",
      "*** Feature:  WS.2011  ***\n",
      "    number of uniques: 2\n",
      "Categories    Counts\n",
      "0    1412\n",
      "1     158\n",
      "dtype: int64 \n",
      "\n",
      "\n",
      "*** Feature:  WS.2012  ***\n",
      "    number of uniques: 2\n",
      "Categories    Counts\n",
      "0    1528\n",
      "1      42\n",
      "dtype: int64 \n",
      "\n",
      "\n",
      "*** Feature:  WS.2013  ***\n",
      "    number of uniques: 2\n",
      "Categories    Counts\n",
      "0    1502\n",
      "1      68\n",
      "dtype: int64 \n",
      "\n",
      "\n",
      "*** Feature:  WS.2014  ***\n",
      "    number of uniques: 3\n",
      "Categories    Counts\n",
      "0    1484\n",
      "1      85\n",
      "2       1\n",
      "dtype: int64 \n",
      "\n",
      "\n",
      "*** Feature:  WS.2015  ***\n",
      "    number of uniques: 3\n",
      "Categories    Counts\n",
      "0    1442\n",
      "1     126\n",
      "2       2\n",
      "dtype: int64 \n",
      "\n",
      "\n"
     ]
    }
   ],
   "source": [
    "for col in df[WScols]:\n",
    "    print '*** Feature: ',col,' ***'\n",
    "    print '    number of uniques:',len(df[col].unique())\n",
    "    print 'Categories    Counts\\n',pd.value_counts(df[col]),'\\n\\n'"
   ]
  },
  {
   "cell_type": "markdown",
   "metadata": {},
   "source": [
    "#### We will explore how the schools performed 1, 2 or 3 years after doing the workshop, compared with those schools that never had a workshop"
   ]
  },
  {
   "cell_type": "markdown",
   "metadata": {},
   "source": [
    "First, we create a new feature with the last year in which the schools had a workshop:"
   ]
  },
  {
   "cell_type": "code",
   "execution_count": 12,
   "metadata": {
    "collapsed": false
   },
   "outputs": [
    {
     "name": "stdout",
     "output_type": "stream",
     "text": [
      "*** Feature:  lastWSyr  ***\n",
      "    number of uniques: 7\n",
      "Categories    Counts\n",
      "0       1083\n",
      "2011     128\n",
      "2015     128\n",
      "2014      86\n",
      "2013      67\n",
      "2012      41\n",
      "2010      37\n",
      "dtype: int64 \n",
      "\n",
      "\n"
     ]
    }
   ],
   "source": [
    "def last_yr(WSyrs):\n",
    "    if WSyrs['WS.2015']>0:\n",
    "        return '2015'\n",
    "    elif WSyrs['WS.2014']>0:\n",
    "        return '2014'\n",
    "    elif WSyrs['WS.2013']>0:\n",
    "        return '2013'\n",
    "    elif WSyrs['WS.2012']>0:\n",
    "        return '2012'\n",
    "    elif WSyrs['WS.2011']>0:\n",
    "        return '2011'\n",
    "    elif WSyrs['WS.2010']>0:\n",
    "        return '2010'\n",
    "    else: return 0\n",
    "\n",
    "df['lastWSyr'] = df[WScols].apply(last_yr, axis=1)\n",
    "\n",
    "col = 'lastWSyr'\n",
    "print '*** Feature: ',col,' ***'\n",
    "print '    number of uniques:',len(df[col].unique())\n",
    "print 'Categories    Counts\\n',pd.value_counts(df['lastWSyr']),'\\n\\n'"
   ]
  },
  {
   "cell_type": "code",
   "execution_count": 13,
   "metadata": {
    "collapsed": false,
    "scrolled": true
   },
   "outputs": [
    {
     "data": {
      "text/plain": [
       "lastWSyr\n",
       "0       117.489078\n",
       "2010    123.241667\n",
       "2011    124.632155\n",
       "2012    115.305854\n",
       "2013    103.128806\n",
       "2014    132.049884\n",
       "2015    114.076538\n",
       "Name: Average_Marks_2014, dtype: float64"
      ]
     },
     "execution_count": 13,
     "metadata": {},
     "output_type": "execute_result"
    }
   ],
   "source": [
    "df.groupby('lastWSyr')['Average_Marks_2014'].mean()"
   ]
  },
  {
   "cell_type": "markdown",
   "metadata": {},
   "source": [
    "Then we calculate the **average mark N years after last workshop**:"
   ]
  },
  {
   "cell_type": "code",
   "execution_count": 14,
   "metadata": {
    "collapsed": false
   },
   "outputs": [],
   "source": [
    "mycols = ['lastWSyr']\n",
    "mycols.extend(Average_Marks_cols)\n",
    "def get_marks_WS(cols):\n",
    "    if cols['lastWSyr']=='2010':\n",
    "        return cols['Average_Marks_2011']\n",
    "    elif cols['lastWSyr']=='2011':\n",
    "        return cols['Average_Marks_2012']\n",
    "    elif cols['lastWSyr']=='2012':\n",
    "        return cols['Average_Marks_2013']\n",
    "    elif cols['lastWSyr']=='2013':\n",
    "        return cols['Average_Marks_2014']    \n",
    "    else:\n",
    "        return None\n",
    "df['Mark_1_afterWS'] = df[mycols].apply(get_marks_WS, axis=1)"
   ]
  },
  {
   "cell_type": "code",
   "execution_count": 15,
   "metadata": {
    "collapsed": true
   },
   "outputs": [],
   "source": [
    "def get_marks_WS(cols):\n",
    "    if cols['lastWSyr']=='2010':\n",
    "        return cols['Average_Marks_2012']\n",
    "    elif cols['lastWSyr']=='2011':\n",
    "        return cols['Average_Marks_2013']\n",
    "    elif cols['lastWSyr']=='2012':\n",
    "        return cols['Average_Marks_2014']\n",
    "    else:\n",
    "        return None\n",
    "df['Mark_2_afterWS'] = df[mycols].apply(get_marks_WS, axis=1)"
   ]
  },
  {
   "cell_type": "code",
   "execution_count": 16,
   "metadata": {
    "collapsed": true
   },
   "outputs": [],
   "source": [
    "def get_marks_WS(cols):\n",
    "    if cols['lastWSyr']=='2010':\n",
    "        return cols['Average_Marks_2013']\n",
    "    elif cols['lastWSyr']=='2011':\n",
    "        return cols['Average_Marks_2014']\n",
    "    else:\n",
    "        return None\n",
    "df['Mark_3_afterWS'] = df[mycols].apply(get_marks_WS, axis=1)"
   ]
  },
  {
   "cell_type": "code",
   "execution_count": 17,
   "metadata": {
    "collapsed": true
   },
   "outputs": [],
   "source": [
    "def get_marks_WS(cols):\n",
    "    if cols['lastWSyr']=='2010':\n",
    "        return cols['Average_Marks_2014']\n",
    "    else:\n",
    "        return None\n",
    "df['Mark_4_afterWS'] = df[mycols].apply(get_marks_WS, axis=1)"
   ]
  },
  {
   "cell_type": "code",
   "execution_count": 18,
   "metadata": {
    "collapsed": false
   },
   "outputs": [
    {
     "name": "stdout",
     "output_type": "stream",
     "text": [
      "['Mark_1_afterWS', 'Mark_2_afterWS', 'Mark_3_afterWS', 'Mark_4_afterWS']\n"
     ]
    }
   ],
   "source": [
    "Marks_afterWScols = ['Mark_%i_afterWS' % i for i in xrange(1,5)]\n",
    "print Marks_afterWScols"
   ]
  },
  {
   "cell_type": "markdown",
   "metadata": {},
   "source": [
    "And we calculate the **average mark of the schools that NEVER took a workshop**:"
   ]
  },
  {
   "cell_type": "code",
   "execution_count": 19,
   "metadata": {
    "collapsed": false
   },
   "outputs": [
    {
     "name": "stdout",
     "output_type": "stream",
     "text": [
      "There are 1083 schools that NEVER attended a workshop\n"
     ]
    }
   ],
   "source": [
    "print(\"There are %i schools that NEVER attended a workshop\" % \n",
    "      df['SUM.WORKSHOPS'][df['SUM.WORKSHOPS']==0].count() )"
   ]
  },
  {
   "cell_type": "code",
   "execution_count": 20,
   "metadata": {
    "collapsed": true
   },
   "outputs": [],
   "source": [
    "# mean average mark of the schools that did not take the workshop:\n",
    "def av_only_no_WS(cols):\n",
    "    return cols[1:].mean() if cols['SUM.WORKSHOPS']==0 else None\n",
    "    \n",
    "df['Av_Marks_NoWS'] = df[['SUM.WORKSHOPS'] + Average_Marks_cols].apply(av_only_no_WS, axis=1)"
   ]
  },
  {
   "cell_type": "markdown",
   "metadata": {},
   "source": [
    "We explore the calculated marks..."
   ]
  },
  {
   "cell_type": "code",
   "execution_count": 21,
   "metadata": {
    "collapsed": false
   },
   "outputs": [
    {
     "data": {
      "text/plain": [
       "Av_Marks_NoWS     112.677892\n",
       "Mark_1_afterWS    105.341642\n",
       "Mark_2_afterWS    114.638358\n",
       "Mark_3_afterWS    121.048301\n",
       "Mark_4_afterWS    123.241667\n",
       "dtype: float64"
      ]
     },
     "execution_count": 21,
     "metadata": {},
     "output_type": "execute_result"
    }
   ],
   "source": [
    "df[['Av_Marks_NoWS']+Marks_afterWScols].mean()"
   ]
  },
  {
   "cell_type": "code",
   "execution_count": 22,
   "metadata": {
    "collapsed": false
   },
   "outputs": [
    {
     "data": {
      "text/plain": [
       "Average_Marks_2011    123.977513\n",
       "Average_Marks_2012     93.222876\n",
       "Average_Marks_2013    110.648765\n",
       "Average_Marks_2014    118.088646\n",
       "dtype: float64"
      ]
     },
     "execution_count": 22,
     "metadata": {},
     "output_type": "execute_result"
    }
   ],
   "source": [
    "df[Average_Marks_cols].mean()"
   ]
  },
  {
   "cell_type": "markdown",
   "metadata": {},
   "source": [
    "... and we realise that some of the variation on the marks N years after workshop is due to the intrinsic variation of marks during the years, not to a change in performance due to the workshops (because for instance \"Mark_4_afterWS\" is calculated only with \"Average_Marks_2014\", whereas \"Mark_1_afterWS\" includes \"Average_Marks_2011, 2012, 2013 and 2014\").\n",
    "\n",
    "So we calculate a new performance score..."
   ]
  },
  {
   "cell_type": "markdown",
   "metadata": {},
   "source": [
    "### Performance Score"
   ]
  },
  {
   "cell_type": "markdown",
   "metadata": {},
   "source": [
    "The new score called \"Performance\" will be the average mark of the school weighted over the mean of the average marks of the schools that year."
   ]
  },
  {
   "cell_type": "code",
   "execution_count": 23,
   "metadata": {
    "collapsed": false
   },
   "outputs": [],
   "source": [
    "df[\"Performance_2011\"] = df['Average_Marks_2011'].apply(lambda x: x/df['Average_Marks_2011'].mean())\n",
    "df[\"Performance_2012\"] = df['Average_Marks_2012'].apply(lambda x: x/df['Average_Marks_2012'].mean())\n",
    "df[\"Performance_2013\"] = df['Average_Marks_2013'].apply(lambda x: x/df['Average_Marks_2013'].mean())\n",
    "df[\"Performance_2014\"] = df['Average_Marks_2014'].apply(lambda x: x/df['Average_Marks_2014'].mean())"
   ]
  },
  {
   "cell_type": "markdown",
   "metadata": {},
   "source": [
    "The annual mean of the performance is always 1, independently of the year. So the performance is a measure of how good the school performed compared to the average performance of the other schools that year."
   ]
  },
  {
   "cell_type": "code",
   "execution_count": 24,
   "metadata": {
    "collapsed": false
   },
   "outputs": [
    {
     "name": "stdout",
     "output_type": "stream",
     "text": [
      "['Performance_2011', 'Performance_2012', 'Performance_2013', 'Performance_2014']\n"
     ]
    },
    {
     "data": {
      "text/html": [
       "<div style=\"max-height:1000px;max-width:1500px;overflow:auto;\">\n",
       "<table border=\"1\" class=\"dataframe\">\n",
       "  <thead>\n",
       "    <tr style=\"text-align: right;\">\n",
       "      <th></th>\n",
       "      <th>Performance_2011</th>\n",
       "      <th>Performance_2012</th>\n",
       "      <th>Performance_2013</th>\n",
       "      <th>Performance_2014</th>\n",
       "    </tr>\n",
       "  </thead>\n",
       "  <tbody>\n",
       "    <tr>\n",
       "      <th>count</th>\n",
       "      <td>957.000000</td>\n",
       "      <td>984.000000</td>\n",
       "      <td>1457.000000</td>\n",
       "      <td>1470.000000</td>\n",
       "    </tr>\n",
       "    <tr>\n",
       "      <th>mean</th>\n",
       "      <td>1.000000</td>\n",
       "      <td>1.000000</td>\n",
       "      <td>1.000000</td>\n",
       "      <td>1.000000</td>\n",
       "    </tr>\n",
       "    <tr>\n",
       "      <th>std</th>\n",
       "      <td>0.203220</td>\n",
       "      <td>0.267419</td>\n",
       "      <td>0.239225</td>\n",
       "      <td>0.236281</td>\n",
       "    </tr>\n",
       "    <tr>\n",
       "      <th>min</th>\n",
       "      <td>0.475893</td>\n",
       "      <td>0.548041</td>\n",
       "      <td>0.557982</td>\n",
       "      <td>0.521727</td>\n",
       "    </tr>\n",
       "    <tr>\n",
       "      <th>25%</th>\n",
       "      <td>0.860559</td>\n",
       "      <td>0.827747</td>\n",
       "      <td>0.846372</td>\n",
       "      <td>0.840830</td>\n",
       "    </tr>\n",
       "    <tr>\n",
       "      <th>50%</th>\n",
       "      <td>0.976145</td>\n",
       "      <td>0.936465</td>\n",
       "      <td>0.945695</td>\n",
       "      <td>0.953055</td>\n",
       "    </tr>\n",
       "    <tr>\n",
       "      <th>75%</th>\n",
       "      <td>1.113347</td>\n",
       "      <td>1.087206</td>\n",
       "      <td>1.085868</td>\n",
       "      <td>1.108637</td>\n",
       "    </tr>\n",
       "    <tr>\n",
       "      <th>max</th>\n",
       "      <td>1.795487</td>\n",
       "      <td>2.365943</td>\n",
       "      <td>2.010054</td>\n",
       "      <td>1.925926</td>\n",
       "    </tr>\n",
       "  </tbody>\n",
       "</table>\n",
       "</div>"
      ],
      "text/plain": [
       "       Performance_2011  Performance_2012  Performance_2013  Performance_2014\n",
       "count        957.000000        984.000000       1457.000000       1470.000000\n",
       "mean           1.000000          1.000000          1.000000          1.000000\n",
       "std            0.203220          0.267419          0.239225          0.236281\n",
       "min            0.475893          0.548041          0.557982          0.521727\n",
       "25%            0.860559          0.827747          0.846372          0.840830\n",
       "50%            0.976145          0.936465          0.945695          0.953055\n",
       "75%            1.113347          1.087206          1.085868          1.108637\n",
       "max            1.795487          2.365943          2.010054          1.925926"
      ]
     },
     "execution_count": 24,
     "metadata": {},
     "output_type": "execute_result"
    }
   ],
   "source": [
    "Perfor_cols = [\"Performance_%i\" % i for i in xrange(2011,2015)]\n",
    "print Perfor_cols\n",
    "df[Perfor_cols].describe()"
   ]
  },
  {
   "cell_type": "markdown",
   "metadata": {},
   "source": [
    "Other possible ways to calculate the performance score, all of them leading to similar results, are:"
   ]
  },
  {
   "cell_type": "code",
   "execution_count": 25,
   "metadata": {
    "collapsed": false
   },
   "outputs": [],
   "source": [
    "# Performance as normalized mark (x-mean/(max-min))\n",
    "#df[Perfor_cols] = (df[Average_Marks_cols] - df[Average_Marks_cols].mean()) / (df[Average_Marks_cols].max() - df[Average_Marks_cols].min())\n",
    "# Performance as deviation from mean\n",
    "#df[Perfor_cols] = df[Average_Marks_cols] - df[Average_Marks_cols].mean()\n",
    "# Performance as deviation from median\n",
    "#df[Perfor_cols] = df[Average_Marks_cols] - df[Average_Marks_cols].median()"
   ]
  },
  {
   "cell_type": "markdown",
   "metadata": {},
   "source": [
    "Calculation of **Performance N years after last workshop**:"
   ]
  },
  {
   "cell_type": "code",
   "execution_count": 26,
   "metadata": {
    "collapsed": true
   },
   "outputs": [],
   "source": [
    "mycols = ['lastWSyr']\n",
    "mycols.extend(Perfor_cols)\n",
    "def get_marks_WS(cols):\n",
    "    if cols['lastWSyr']=='2010':\n",
    "        return cols['Performance_2011']\n",
    "    elif cols['lastWSyr']=='2011':\n",
    "        return cols['Performance_2012']\n",
    "    elif cols['lastWSyr']=='2012':\n",
    "        return cols['Performance_2013']\n",
    "    elif cols['lastWSyr']=='2013':\n",
    "        return cols['Performance_2014']    \n",
    "    else:\n",
    "        return None\n",
    "df['Perf_1_afterWS'] = df[mycols].apply(get_marks_WS, axis=1)"
   ]
  },
  {
   "cell_type": "code",
   "execution_count": 27,
   "metadata": {
    "collapsed": true
   },
   "outputs": [],
   "source": [
    "def get_marks_WS(cols):\n",
    "    if cols['lastWSyr']=='2010':\n",
    "        return cols['Performance_2012']\n",
    "    elif cols['lastWSyr']=='2011':\n",
    "        return cols['Performance_2013']\n",
    "    elif cols['lastWSyr']=='2012':\n",
    "        return cols['Performance_2014']\n",
    "    else:\n",
    "        return None\n",
    "df['Perf_2_afterWS'] = df[mycols].apply(get_marks_WS, axis=1)"
   ]
  },
  {
   "cell_type": "code",
   "execution_count": 28,
   "metadata": {
    "collapsed": true
   },
   "outputs": [],
   "source": [
    "def get_marks_WS(cols):\n",
    "    if cols['lastWSyr']=='2010':\n",
    "        return cols['Performance_2013']\n",
    "    elif cols['lastWSyr']=='2011':\n",
    "        return cols['Performance_2014']\n",
    "    else:\n",
    "        return None\n",
    "df['Perf_3_afterWS'] = df[mycols].apply(get_marks_WS, axis=1)"
   ]
  },
  {
   "cell_type": "code",
   "execution_count": 29,
   "metadata": {
    "collapsed": true
   },
   "outputs": [],
   "source": [
    "def get_marks_WS(cols):\n",
    "    if cols['lastWSyr']=='2010':\n",
    "        return cols['Performance_2014']\n",
    "    else:\n",
    "        return None\n",
    "df['Perf_4_afterWS'] = df[mycols].apply(get_marks_WS, axis=1)"
   ]
  },
  {
   "cell_type": "code",
   "execution_count": 30,
   "metadata": {
    "collapsed": false
   },
   "outputs": [
    {
     "name": "stdout",
     "output_type": "stream",
     "text": [
      "['Perf_1_afterWS', 'Perf_2_afterWS', 'Perf_3_afterWS', 'Perf_4_afterWS']\n"
     ]
    }
   ],
   "source": [
    "Perfs_afterWScols = ['Perf_%i_afterWS' % i for i in xrange(1,5)]\n",
    "print Perfs_afterWScols"
   ]
  },
  {
   "cell_type": "markdown",
   "metadata": {},
   "source": [
    "And we calculate the **Performance of the schools that NEVER took a workshop**:"
   ]
  },
  {
   "cell_type": "code",
   "execution_count": 31,
   "metadata": {
    "collapsed": false
   },
   "outputs": [],
   "source": [
    "# mean performance of the schools that did not take the workshop:\n",
    "def perf_only_no_WS(cols):\n",
    "    return cols[1:].mean() if cols['SUM.WORKSHOPS']==0 else None\n",
    "    \n",
    "df['Av_Perfs_NoWS'] = df[['SUM.WORKSHOPS']+Perfor_cols].apply(perf_only_no_WS, axis=1)"
   ]
  },
  {
   "cell_type": "code",
   "execution_count": 32,
   "metadata": {
    "collapsed": false
   },
   "outputs": [
    {
     "data": {
      "text/html": [
       "<div style=\"max-height:1000px;max-width:1500px;overflow:auto;\">\n",
       "<table border=\"1\" class=\"dataframe\">\n",
       "  <thead>\n",
       "    <tr style=\"text-align: right;\">\n",
       "      <th></th>\n",
       "      <th>Av_Perfs_NoWS</th>\n",
       "      <th>Perf_1_afterWS</th>\n",
       "      <th>Perf_2_afterWS</th>\n",
       "      <th>Perf_3_afterWS</th>\n",
       "      <th>Perf_4_afterWS</th>\n",
       "    </tr>\n",
       "  </thead>\n",
       "  <tbody>\n",
       "    <tr>\n",
       "      <th>count</th>\n",
       "      <td>1083.000000</td>\n",
       "      <td>268.000000</td>\n",
       "      <td>201.000000</td>\n",
       "      <td>153.000000</td>\n",
       "      <td>36.000000</td>\n",
       "    </tr>\n",
       "    <tr>\n",
       "      <th>mean</th>\n",
       "      <td>0.999384</td>\n",
       "      <td>1.001439</td>\n",
       "      <td>1.046036</td>\n",
       "      <td>1.040184</td>\n",
       "      <td>1.043637</td>\n",
       "    </tr>\n",
       "    <tr>\n",
       "      <th>std</th>\n",
       "      <td>0.214565</td>\n",
       "      <td>0.249112</td>\n",
       "      <td>0.249454</td>\n",
       "      <td>0.219580</td>\n",
       "      <td>0.212096</td>\n",
       "    </tr>\n",
       "    <tr>\n",
       "      <th>min</th>\n",
       "      <td>0.596041</td>\n",
       "      <td>0.548578</td>\n",
       "      <td>0.588795</td>\n",
       "      <td>0.569008</td>\n",
       "      <td>0.626648</td>\n",
       "    </tr>\n",
       "    <tr>\n",
       "      <th>25%</th>\n",
       "      <td>0.864910</td>\n",
       "      <td>0.838256</td>\n",
       "      <td>0.886228</td>\n",
       "      <td>0.875359</td>\n",
       "      <td>0.889438</td>\n",
       "    </tr>\n",
       "    <tr>\n",
       "      <th>50%</th>\n",
       "      <td>0.954421</td>\n",
       "      <td>0.962055</td>\n",
       "      <td>0.978231</td>\n",
       "      <td>1.003737</td>\n",
       "      <td>1.011020</td>\n",
       "    </tr>\n",
       "    <tr>\n",
       "      <th>75%</th>\n",
       "      <td>1.063680</td>\n",
       "      <td>1.091340</td>\n",
       "      <td>1.175612</td>\n",
       "      <td>1.151931</td>\n",
       "      <td>1.212797</td>\n",
       "    </tr>\n",
       "    <tr>\n",
       "      <th>max</th>\n",
       "      <td>2.066000</td>\n",
       "      <td>2.302439</td>\n",
       "      <td>1.968662</td>\n",
       "      <td>1.862245</td>\n",
       "      <td>1.546889</td>\n",
       "    </tr>\n",
       "  </tbody>\n",
       "</table>\n",
       "</div>"
      ],
      "text/plain": [
       "       Av_Perfs_NoWS  Perf_1_afterWS  Perf_2_afterWS  Perf_3_afterWS  \\\n",
       "count    1083.000000      268.000000      201.000000      153.000000   \n",
       "mean        0.999384        1.001439        1.046036        1.040184   \n",
       "std         0.214565        0.249112        0.249454        0.219580   \n",
       "min         0.596041        0.548578        0.588795        0.569008   \n",
       "25%         0.864910        0.838256        0.886228        0.875359   \n",
       "50%         0.954421        0.962055        0.978231        1.003737   \n",
       "75%         1.063680        1.091340        1.175612        1.151931   \n",
       "max         2.066000        2.302439        1.968662        1.862245   \n",
       "\n",
       "       Perf_4_afterWS  \n",
       "count       36.000000  \n",
       "mean         1.043637  \n",
       "std          0.212096  \n",
       "min          0.626648  \n",
       "25%          0.889438  \n",
       "50%          1.011020  \n",
       "75%          1.212797  \n",
       "max          1.546889  "
      ]
     },
     "execution_count": 32,
     "metadata": {},
     "output_type": "execute_result"
    }
   ],
   "source": [
    "df[['Av_Perfs_NoWS']+Perfs_afterWScols].describe()"
   ]
  },
  {
   "cell_type": "markdown",
   "metadata": {},
   "source": [
    "## Plots"
   ]
  },
  {
   "cell_type": "markdown",
   "metadata": {},
   "source": [
    "### Average marks"
   ]
  },
  {
   "cell_type": "code",
   "execution_count": 33,
   "metadata": {
    "collapsed": false,
    "scrolled": true
   },
   "outputs": [
    {
     "name": "stderr",
     "output_type": "stream",
     "text": [
      "/data/anaconda/lib/python2.7/site-packages/seaborn/categorical.py:1791: UserWarning: The violinplot API has been changed. Attempting to adjust your arguments for the new API (which might not work). Please update your code. See the version 0.6 release notes for more info.\n",
      "  warnings.warn(msg, UserWarning)\n"
     ]
    },
    {
     "data": {
      "image/png": "iVBORw0KGgoAAAANSUhEUgAAAfIAAAGCCAYAAAAbs0ERAAAABHNCSVQICAgIfAhkiAAAAAlwSFlz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\nyIUQQggLkyAXQgghLOz/A1bVBfSIvev1AAAAAElFTkSuQmCC\n",
      "text/plain": [
<<<<<<< HEAD
       "<matplotlib.figure.Figure at 0x7f5fe2061f10>"
=======
       "<matplotlib.figure.Figure at 0x7fc8c7c67f90>"
>>>>>>> e89f832fe07b949c94d98a4516c5a90a085f60d8
      ]
     },
     "metadata": {},
     "output_type": "display_data"
    }
   ],
   "source": [
    "fig, ax = plt.subplots(figsize=(8,6))\n",
    "ax = sns.violinplot(x=df[Average_Marks_cols], inner=\"quartile\")\n",
    "ax.set_xlabel('Year')\n",
    "ax.set_ylabel('Average Mark of all Schools')\n",
    "ax.set_xticklabels([\"2011\", \"2012\", \"2013\", \"2014\"])\n",
    "fig.savefig('Yearly_average_marks.eps', format='eps', dpi=100)\n",
    "fig.savefig('Yearly_average_marks.pdf', format='pdf', dpi=100)"
   ]
  },
  {
   "cell_type": "markdown",
   "metadata": {},
   "source": [
    "The plot above depicts *violin plots*. The shape of the violin shows the distribution of the performances, whereas the discontinuous lines inside the violins show the 1st quartile, the median and the 3rd quartile of the distributions.\n",
    "\n",
    "In the plot above we can see that the average marks really change over the years. Now we are truly convinced that is better to use *Performance* instead of the *Average_mark*."
   ]
  },
  {
   "cell_type": "markdown",
   "metadata": {},
   "source": [
    "### Performance\n",
    "\n",
    "Remember that the performance is the average mark weighted over the mean mark that year, so the annual mean of the performance of all schools is always one."
   ]
  },
  {
   "cell_type": "markdown",
   "metadata": {},
   "source": [
    "**Distribution of the performances** of all schools that never had a Workshop (WS), and those after 1, 2, 3 and 4 years of having the WS:"
   ]
  },
  {
   "cell_type": "code",
   "execution_count": 34,
   "metadata": {
    "collapsed": false
   },
   "outputs": [
    {
     "data": {
      "image/png": "iVBORw0KGgoAAAANSUhEUgAAAicAAAGCCAYAAAA7aWMdAAAABHNCSVQICAgIfAhkiAAAAAlwSFlz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\n/wOykO9QDSiapAAAAABJRU5ErkJggg==\n",
      "text/plain": [
<<<<<<< HEAD
       "<matplotlib.figure.Figure at 0x7f5fe22f2950>"
=======
       "<matplotlib.figure.Figure at 0x7fc8c7efb950>"
>>>>>>> e89f832fe07b949c94d98a4516c5a90a085f60d8
      ]
     },
     "metadata": {},
     "output_type": "display_data"
    }
   ],
   "source": [
    "fig, ax = plt.subplots(figsize=(9,6))\n",
    "ax = sns.violinplot(x=df[['Av_Perfs_NoWS']+Perfs_afterWScols], inner=\"quartile\")\n",
    "ax.set_xlabel('Years after last Workshop')\n",
    "ax.set_ylabel('Performance of Schools')\n",
    "ax.set_xticklabels([\"Never WS\",\"1\", \"2\", \"3\", \"4\"])\n",
    "fig.savefig('Performance_years_after_WS.eps', format='eps', dpi=100)\n",
    "fig.savefig('Performance_years_after_WS.pdf', format='pdf', dpi=100)"
   ]
  },
  {
   "cell_type": "markdown",
   "metadata": {},
   "source": [
    "The plot above depicts *violin plots*. The shape of the violin shows the distribution of the performances, whereas the discontinuous lines inside the violins show the 1st quartile, the median and the 3rd quartile of the distributions.\n",
    "\n",
    "We can see that the performances of the schools improves after having a workshop, and it continues to improve during the following years."
   ]
  },
  {
   "cell_type": "code",
   "execution_count": 35,
   "metadata": {
    "collapsed": false
   },
   "outputs": [],
   "source": [
    "#print df[['Av_Perfs_NoWS']+Perfs_afterWScols].median().values\n",
    "#print df[['Av_Perfs_NoWS']+Perfs_afterWScols].mean().values\n",
    "#print df[['Av_Perfs_NoWS']+Perfs_afterWScols].std().values"
   ]
  },
  {
   "cell_type": "markdown",
   "metadata": {},
   "source": [
    "We will now perform a **linear regression** over the performances, to confirm that they indeed increase after having a workshop.\n",
    "\n",
    "To do that we will use the lmplot function of the Seaborn package for statistical data visualization. This function needs our data in a specific format, so we will first transform the format of our data."
   ]
  },
  {
   "cell_type": "code",
   "execution_count": 36,
   "metadata": {
    "collapsed": false
   },
   "outputs": [],
   "source": [
    "# new dataframe df2 with all rows and only performance columns (the last five):\n",
    "df2 = df.ix[:,-5:]\n",
    "# reindex and rename columns with the number of years after workshop (0 means never WS)\n",
    "df2['index'] = df2.index\n",
    "df2.columns = [1,2,3,4,0,'index']\n",
    "# melt the dataframe\n",
    "df2 = pd.melt(df2, id_vars='index', var_name='Years after last Workshop',\n",
    "              value_name='School Performance').dropna().sort('index')"
   ]
  },
  {
   "cell_type": "markdown",
   "metadata": {},
   "source": [
    "Plot the regression:"
   ]
  },
  {
   "cell_type": "code",
   "execution_count": 37,
   "metadata": {
    "collapsed": false
   },
   "outputs": [
    {
     "data": {
<<<<<<< HEAD
      "image/png": "iVBORw0KGgoAAAANSUhEUgAAAe0AAAFhCAYAAABdxvJYAAAABHNCSVQICAgIfAhkiAAAAAlwSFlz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\n0BYREUkIhbaIiEhC/F/JgCbXUeOOaQAAAABJRU5ErkJggg==\n",
      "text/plain": [
       "<matplotlib.figure.Figure at 0x7f5fe2061350>"
=======
      "image/png": "iVBORw0KGgoAAAANSUhEUgAAAe0AAAFhCAYAAABdxvJYAAAABHNCSVQICAgIfAhkiAAAAAlwSFlz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\nrkJggg==\n",
      "text/plain": [
       "<matplotlib.figure.Figure at 0x7fc8c7abaed0>"
>>>>>>> e89f832fe07b949c94d98a4516c5a90a085f60d8
      ]
     },
     "metadata": {},
     "output_type": "display_data"
    }
   ],
   "source": [
    "#fig, ax = plt.subplots(figsize=(9,6))\n",
    "ax = sns.lmplot(x=\"Years after last Workshop\", y=\"School Performance\", data=df2,\n",
    "                x_estimator=np.mean, size=5, aspect=1.4).set(xlim=(-0.5, 4.5))\n",
    "ax.savefig('Regression_Performance_years_after_WS.eps', format='eps', dpi=100)\n",
    "ax.savefig('Regression_Performance_years_after_WS.pdf', format='pdf', dpi=100)"
   ]
  },
  {
   "cell_type": "markdown",
   "metadata": {},
   "source": [
    "(the blue area around the linear regression is the 95% confidence interval for the regression model)"
   ]
  },
  {
   "cell_type": "markdown",
   "metadata": {},
   "source": [
    "## Conclusion:"
   ]
  },
  {
   "cell_type": "markdown",
   "metadata": {},
   "source": [
<<<<<<< HEAD
    "**We have confirmed that the performance of the schools improves after having a workshop.\n",
    "Moreover, the workshops have a long-lasting impact, so the performance of the schools continues to improve during the following years after the workshop.**"
=======
    "#### We have confirmed that the performance of the schools improves after having a workshop.\n",
    "#### Moreover, the workshops have a long-lasting impact, so the performance of the schools continues to improve during the following years after the workshop."
>>>>>>> e89f832fe07b949c94d98a4516c5a90a085f60d8
   ]
  }
 ],
 "metadata": {
  "kernelspec": {
   "display_name": "Python 2",
   "language": "python",
   "name": "python2"
  },
  "language_info": {
   "codemirror_mode": {
    "name": "ipython",
    "version": 2
   },
   "file_extension": ".py",
   "mimetype": "text/x-python",
   "name": "python",
   "nbconvert_exporter": "python",
   "pygments_lexer": "ipython2",
   "version": "2.7.10"
  }
 },
 "nbformat": 4,
 "nbformat_minor": 0
}
